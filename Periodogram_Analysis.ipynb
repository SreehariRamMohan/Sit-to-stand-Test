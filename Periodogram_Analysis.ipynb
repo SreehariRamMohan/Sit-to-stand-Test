{
 "cells": [
  {
   "cell_type": "code",
   "execution_count": 1,
   "metadata": {},
   "outputs": [],
   "source": [
    "import pandas as pd\n",
    "import matplotlib.pyplot as plt\n",
    "import numpy as np\n",
    "from scipy import ndimage\n",
    "from scipy.signal import find_peaks\n",
    "from scipy.signal import medfilt\n",
    "from scipy.signal import savgol_filter"
   ]
  },
  {
   "cell_type": "code",
   "execution_count": 2,
   "metadata": {},
   "outputs": [],
   "source": [
    "def moving_average(x, window=3):\n",
    "    box = np.ones(window)/window\n",
    "    smoothed = np.convolve(x, box, mode=\"same\")\n",
    "    return smoothed"
   ]
  },
  {
   "cell_type": "code",
   "execution_count": 3,
   "metadata": {},
   "outputs": [],
   "source": [
    "def normalize_df(input_df):\n",
    "    for col in input_df.columns:\n",
    "        input_df[col] = input_df[col]/input_df[col].max()\n",
    "    return input_df        "
   ]
  },
  {
   "cell_type": "code",
   "execution_count": 4,
   "metadata": {},
   "outputs": [],
   "source": [
    "def horizontal_sum(df):\n",
    "    \n",
    "    combined_signal = []\n",
    "    \n",
    "    signal_len = len(df.iloc[:, 0])\n",
    "    \n",
    "    for index in range(0, signal_len): \n",
    "        sum_horiz = 0\n",
    "        for signal in df.columns:\n",
    "            sum_horiz += df[signal][index]\n",
    "        \n",
    "        combined_signal.append(sum_horiz)\n",
    "        \n",
    "    return combined_signal\n",
    "        "
   ]
  },
  {
   "cell_type": "code",
   "execution_count": 5,
   "metadata": {},
   "outputs": [],
   "source": [
    "def compute_periodogram(input_signal):\n",
    "    signal = np.array(input_signal) #np.array(input_signal.apply(lambda x: float(x)))\n",
    "    pgram_python = (2.0/float(signal.size)) * np.power(np.fft.fft(signal), 2)\n",
    "    indices = list(range(0, int(len(pgram_python)/2 + 1)))\n",
    "    pgram_python = pgram_python[indices]\n",
    "    return np.array(pgram_python.real)"
   ]
  },
  {
   "cell_type": "code",
   "execution_count": 6,
   "metadata": {},
   "outputs": [],
   "source": [
    "def filter_data(input_signal):\n",
    "    signal = np.array(input_signal)\n",
    "    sigma = 2 #play around with this value to influence the degree of \"smoothness\"\n",
    "    signal = ndimage.gaussian_filter1d(input_signal, sigma)\n",
    "    return signal"
   ]
  },
  {
   "cell_type": "code",
   "execution_count": 7,
   "metadata": {},
   "outputs": [],
   "source": [
    "def determine_squats(periodogram):\n",
    "    \n",
    "    periodogram = periodogram\n",
    "    \n",
    "    periodogram = list(periodogram)\n",
    "    \n",
    "    frames = len(periodogram)\n",
    "        \n",
    "    peaks = find_peaks(periodogram)\n",
    "        \n",
    "    max_frame = peaks[0][1]\n",
    "    \n",
    "    max_freq = max_frame/frames\n",
    "    \n",
    "    period = 1/max_freq\n",
    "    \n",
    "    num_squats = frames/period\n",
    "        \n",
    "    return num_squats\n",
    "    "
   ]
  },
  {
   "cell_type": "code",
   "execution_count": 42,
   "metadata": {},
   "outputs": [],
   "source": [
    "df = pd.read_csv(\"all_signals_4.csv\", sep='\\s*,\\s*', encoding='ascii', engine='python', skiprows=[1])\n",
    "df.columns = map(lambda x: x.strip(), list(df.columns)) #remove preceding \" \" and trailing \" \" from column names"
   ]
  },
  {
   "cell_type": "code",
   "execution_count": 43,
   "metadata": {},
   "outputs": [],
   "source": [
    "df = df.iloc[:, 15:] #just get the interpolated values from the CSV"
   ]
  },
  {
   "cell_type": "code",
   "execution_count": 49,
   "metadata": {},
   "outputs": [
    {
     "data": {
      "text/html": [
       "<div>\n",
       "<style scoped>\n",
       "    .dataframe tbody tr th:only-of-type {\n",
       "        vertical-align: middle;\n",
       "    }\n",
       "\n",
       "    .dataframe tbody tr th {\n",
       "        vertical-align: top;\n",
       "    }\n",
       "\n",
       "    .dataframe thead th {\n",
       "        text-align: right;\n",
       "    }\n",
       "</style>\n",
       "<table border=\"1\" class=\"dataframe\">\n",
       "  <thead>\n",
       "    <tr style=\"text-align: right;\">\n",
       "      <th></th>\n",
       "      <th>pgram_all</th>\n",
       "      <th>combined_signal</th>\n",
       "      <th>rightLegAngleSignal_interpolated</th>\n",
       "      <th>leftLegAngleSignal_interpolated</th>\n",
       "      <th>yPositionOfNoseSignal_interpolated</th>\n",
       "      <th>xPositionOfRHipSignal_interpolated</th>\n",
       "      <th>yPositionOfRHipSignal_interpolated</th>\n",
       "      <th>xPositionOfLHipSignal_interpolated</th>\n",
       "      <th>yPositionOfLHipSignal_interpolated</th>\n",
       "    </tr>\n",
       "  </thead>\n",
       "  <tbody>\n",
       "    <tr>\n",
       "      <th>0</th>\n",
       "      <td>3.232903</td>\n",
       "      <td>4.551404</td>\n",
       "      <td>0.909666</td>\n",
       "      <td>0.795167</td>\n",
       "      <td>0.846154</td>\n",
       "      <td>0.521127</td>\n",
       "      <td>0.623529</td>\n",
       "      <td>0.561644</td>\n",
       "      <td>0.294118</td>\n",
       "    </tr>\n",
       "    <tr>\n",
       "      <th>1</th>\n",
       "      <td>3.245151</td>\n",
       "      <td>4.282918</td>\n",
       "      <td>0.860791</td>\n",
       "      <td>0.795167</td>\n",
       "      <td>0.384615</td>\n",
       "      <td>0.633803</td>\n",
       "      <td>0.670588</td>\n",
       "      <td>0.643836</td>\n",
       "      <td>0.294118</td>\n",
       "    </tr>\n",
       "    <tr>\n",
       "      <th>2</th>\n",
       "      <td>3.353608</td>\n",
       "      <td>5.558523</td>\n",
       "      <td>0.844042</td>\n",
       "      <td>0.909666</td>\n",
       "      <td>0.353846</td>\n",
       "      <td>0.830986</td>\n",
       "      <td>0.905882</td>\n",
       "      <td>0.808219</td>\n",
       "      <td>0.905882</td>\n",
       "    </tr>\n",
       "    <tr>\n",
       "      <th>3</th>\n",
       "      <td>3.455346</td>\n",
       "      <td>5.510830</td>\n",
       "      <td>0.885502</td>\n",
       "      <td>0.844042</td>\n",
       "      <td>0.353846</td>\n",
       "      <td>0.830986</td>\n",
       "      <td>0.905882</td>\n",
       "      <td>0.808219</td>\n",
       "      <td>0.882353</td>\n",
       "    </tr>\n",
       "    <tr>\n",
       "      <th>4</th>\n",
       "      <td>2.541713</td>\n",
       "      <td>5.479356</td>\n",
       "      <td>0.830499</td>\n",
       "      <td>0.844042</td>\n",
       "      <td>0.353846</td>\n",
       "      <td>0.830986</td>\n",
       "      <td>0.905882</td>\n",
       "      <td>0.808219</td>\n",
       "      <td>0.905882</td>\n",
       "    </tr>\n",
       "  </tbody>\n",
       "</table>\n",
       "</div>"
      ],
      "text/plain": [
       "   pgram_all  combined_signal  rightLegAngleSignal_interpolated  \\\n",
       "0   3.232903         4.551404                          0.909666   \n",
       "1   3.245151         4.282918                          0.860791   \n",
       "2   3.353608         5.558523                          0.844042   \n",
       "3   3.455346         5.510830                          0.885502   \n",
       "4   2.541713         5.479356                          0.830499   \n",
       "\n",
       "   leftLegAngleSignal_interpolated  yPositionOfNoseSignal_interpolated  \\\n",
       "0                         0.795167                            0.846154   \n",
       "1                         0.795167                            0.384615   \n",
       "2                         0.909666                            0.353846   \n",
       "3                         0.844042                            0.353846   \n",
       "4                         0.844042                            0.353846   \n",
       "\n",
       "   xPositionOfRHipSignal_interpolated  yPositionOfRHipSignal_interpolated  \\\n",
       "0                            0.521127                            0.623529   \n",
       "1                            0.633803                            0.670588   \n",
       "2                            0.830986                            0.905882   \n",
       "3                            0.830986                            0.905882   \n",
       "4                            0.830986                            0.905882   \n",
       "\n",
       "   xPositionOfLHipSignal_interpolated  yPositionOfLHipSignal_interpolated  \n",
       "0                            0.561644                            0.294118  \n",
       "1                            0.643836                            0.294118  \n",
       "2                            0.808219                            0.905882  \n",
       "3                            0.808219                            0.882353  \n",
       "4                            0.808219                            0.905882  "
      ]
     },
     "execution_count": 49,
     "metadata": {},
     "output_type": "execute_result"
    }
   ],
   "source": [
    "df.head()"
   ]
  },
  {
   "cell_type": "code",
   "execution_count": 61,
   "metadata": {},
   "outputs": [],
   "source": [
    "#df = normalize_df(df) #normalized signals before combining them\n",
    "#combined_signal = horizontal_sum(df) #combine signals\n",
    "combined_signal = df['pgram_all']\n",
    "#combined_signal = medfilt(combined_signal, kernel_size=3) #use running median to get rid of outliers\n",
    "#combined_signal = moving_average(combined_signal, window=7)\n",
    "\n",
    "pgram = np.array(combined_signal)\n",
    "\n",
    "prgram = pgram[1:int(len(pgram)/2)]\n",
    "\n",
    "pgram[0] = 0"
   ]
  },
  {
   "cell_type": "code",
   "execution_count": 62,
   "metadata": {},
   "outputs": [
    {
     "data": {
      "text/plain": [
       "[<matplotlib.lines.Line2D at 0x1c2333fb00>]"
      ]
     },
     "execution_count": 62,
     "metadata": {},
     "output_type": "execute_result"
    },
    {
     "data": {
      "image/png": "[encoded data removed]",
      "text/plain": [
       "<matplotlib.figure.Figure at 0x1c22a0c160>"
      ]
     },
     "metadata": {},
     "output_type": "display_data"
    }
   ],
   "source": [
    "plt.figure(figsize=(15,5))\n",
    "plt.plot(prgram)"
   ]
  },
  {
   "cell_type": "code",
   "execution_count": 63,
   "metadata": {},
   "outputs": [
    {
     "name": "stdout",
     "output_type": "stream",
     "text": [
      "574\n"
     ]
    }
   ],
   "source": [
    "print(len(pgram))"
   ]
  },
  {
   "cell_type": "code",
   "execution_count": 64,
   "metadata": {},
   "outputs": [
    {
     "name": "stdout",
     "output_type": "stream",
     "text": [
      "4.999999999999999\n"
     ]
    }
   ],
   "source": [
    "print(determine_squats(pgram))"
   ]
  },
  {
   "cell_type": "code",
   "execution_count": null,
   "metadata": {},
   "outputs": [],
   "source": []
  }
 ],
 "metadata": {
  "kernelspec": {
   "display_name": "Python 3",
   "language": "python",
   "name": "python3"
  },
  "language_info": {
   "codemirror_mode": {
    "name": "ipython",
    "version": 3
   },
   "file_extension": ".py",
   "mimetype": "text/x-python",
   "name": "python",
   "nbconvert_exporter": "python",
   "pygments_lexer": "ipython3",
   "version": "3.6.4"
  }
 },
 "nbformat": 4,
 "nbformat_minor": 2
}
