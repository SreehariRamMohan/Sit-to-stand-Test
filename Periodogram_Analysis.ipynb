{
 "cells": [
  {
   "cell_type": "code",
   "execution_count": 1,
   "metadata": {},
   "outputs": [],
   "source": [
    "import pandas as pd\n",
    "import matplotlib.pyplot as plt\n",
    "import numpy as np\n",
    "from scipy import ndimage\n",
    "from scipy.signal import find_peaks\n",
    "from scipy.signal import medfilt\n",
    "from scipy.signal import savgol_filter"
   ]
  },
  {
   "cell_type": "code",
   "execution_count": 2,
   "metadata": {},
   "outputs": [],
   "source": [
    "def moving_average(x, window=3):\n",
    "    box = np.ones(window)/window\n",
    "    smoothed = np.convolve(x, box, mode=\"same\")\n",
    "    return smoothed"
   ]
  },
  {
   "cell_type": "code",
   "execution_count": 3,
   "metadata": {},
   "outputs": [],
   "source": [
    "def normalize_df(input_df):\n",
    "    for col in input_df.columns:\n",
    "        input_df[col] = input_df[col]/input_df[col].max()\n",
    "    return input_df        "
   ]
  },
  {
   "cell_type": "code",
   "execution_count": 4,
   "metadata": {},
   "outputs": [],
   "source": [
    "def horizontal_sum(df):\n",
    "    \n",
    "    combined_signal = []\n",
    "    \n",
    "    signal_len = len(df.iloc[:, 0])\n",
    "    \n",
    "    for index in range(0, signal_len): \n",
    "        sum_horiz = 0\n",
    "        for signal in df.columns:\n",
    "            sum_horiz += df[signal][index]\n",
    "        \n",
    "        combined_signal.append(sum_horiz)\n",
    "        \n",
    "    return combined_signal\n",
    "        "
   ]
  },
  {
   "cell_type": "code",
   "execution_count": 5,
   "metadata": {},
   "outputs": [],
   "source": [
    "def compute_periodogram(input_signal):\n",
    "    signal = np.array(input_signal) #np.array(input_signal.apply(lambda x: float(x)))\n",
    "    pgram_python = (2.0/float(signal.size)) * np.power(np.fft.fft(signal), 2)\n",
    "    indices = list(range(0, int(len(pgram_python)/2 + 1)))\n",
    "    pgram_python = pgram_python[indices]\n",
    "    return np.array(pgram_python.real)"
   ]
  },
  {
   "cell_type": "code",
   "execution_count": 6,
   "metadata": {},
   "outputs": [],
   "source": [
    "def filter_data(input_signal):\n",
    "    signal = []\n",
    "    \n",
    "    for val in input_signal:\n",
    "        if(not np.isnan(val)):\n",
    "            signal.append(val)\n",
    "            \n",
    "    signal = np.array(signal)\n",
    "    return signal"
   ]
  },
  {
   "cell_type": "code",
   "execution_count": 7,
   "metadata": {},
   "outputs": [],
   "source": [
    "def gaussian_filter(input_signal):\n",
    "    sigma = 2 #play around with this value to influence the degree of \"smoothness\"\n",
    "    signal = ndimage.gaussian_filter1d(input_signal, sigma)\n",
    "    return signal"
   ]
  },
  {
   "cell_type": "code",
   "execution_count": 8,
   "metadata": {},
   "outputs": [],
   "source": [
    "def determine_squats(periodogram):\n",
    "    \n",
    "    periodogram = periodogram\n",
    "    \n",
    "    periodogram = list(periodogram)\n",
    "    \n",
    "    frames = len(periodogram)\n",
    "        \n",
    "    peaks = find_peaks(periodogram)\n",
    "    \n",
    "    peaks = peaks[0]\n",
    "        \n",
    "    max_peak = 0\n",
    "    max_power = 0\n",
    "    \n",
    "    for peak in peaks:\n",
    "        if(periodogram[peak] > max_power):\n",
    "            max_peak = peak\n",
    "            max_power = periodogram[peak]\n",
    "\n",
    "    max_frame = max_peak\n",
    "    \n",
    "    max_freq = max_frame/frames\n",
    "    \n",
    "    period = 1/max_freq\n",
    "    \n",
    "    num_squats = frames/period\n",
    "        \n",
    "    return num_squats\n",
    "    "
   ]
  },
  {
   "cell_type": "code",
   "execution_count": 21,
   "metadata": {},
   "outputs": [],
   "source": [
    "def complete_pipeline(filepath):\n",
    "    df = pd.read_csv(filepath, sep='\\s*,\\s*', encoding='ascii', engine='python', skiprows=[1])\n",
    "    df.columns = map(lambda x: x.strip(), list(df.columns)) #remove preceding \" \" and trailing \" \" from column names\n",
    "    \n",
    "    df = df.iloc[:, [17, 19, 21]]#df.iloc[:, 15:]# #just get the interpolated values from the CSV [17, 19, 21]\n",
    "    \n",
    "    df = normalize_df(df) #normalized signals before combining them\n",
    "    combined_signal = horizontal_sum(df) #combine signals\n",
    "\n",
    "    combined_signal = filter_data(combined_signal) #remove NaN\n",
    "\n",
    "    combined_signal = medfilt(combined_signal, kernel_size=7) #use running median to get rid of outliers\n",
    "    #combined_signal = gaussian_filter(combined_signal)\n",
    "    \n",
    "    \n",
    "    pgram = compute_periodogram(combined_signal)\n",
    "    pgram = pgram[1:int(len(pgram)/2)]\n",
    "    \n",
    "    squats = determine_squats(pgram)\n",
    "    \n",
    "    return squats"
   ]
  },
  {
   "cell_type": "code",
   "execution_count": 22,
   "metadata": {},
   "outputs": [
    {
     "name": "stdout",
     "output_type": "stream",
     "text": [
      "Trial 1: 1.0 -> 14.0 vs. 7\n",
      "Trial 2: 0.29 -> 5.0 vs. 7\n",
      "Trial 3: 0.86 -> 13.0 vs. 7\n",
      "Trial 5: 0.29 -> 5.0 vs. 7\n",
      "Trial 6: 0.2 -> 8.0 vs. 10\n",
      "Trial 7: 0.1 -> 9.0 vs. 10\n",
      "Trial 8: 0.8 -> 18.0 vs. 10\n",
      "Trial 9: 0.82 -> 2.0 vs. 11\n",
      "Trial 10: 0.1 -> 9.0 vs. 10\n",
      "Trial 11: 0.1 -> 9.0 vs. 10\n",
      "Trial 12: 0.1 -> 9.0 vs. 10\n",
      "Trial 13: 0.3 -> 13.000000000000002 vs. 10\n",
      "Trial 14: 1.13 -> 17.000000000000004 vs. 8\n",
      "Trial 15: 0.75 -> 5.000000000000001 vs. 20\n",
      "Trial 16: 1.47 -> 21.0 vs. 8.5\n",
      "Trial 17: 0.12 -> 7.000000000000001 vs. 8\n",
      "Trial 18: 0.33 -> 6.000000000000001 vs. 9\n",
      "Trial 19: 0.88 -> 1.0 vs. 8.5\n",
      "Trial 20: 0.11 -> 8.0 vs. 9\n",
      "Trial 21: 0.0 -> 9.0 vs. 9\n",
      "Trial 22: 0.89 -> 17.0 vs. 9\n",
      "Trial 23: 0.11 -> 8.0 vs. 9\n",
      "48.83699485303764\n"
     ]
    }
   ],
   "source": [
    "indexes = [[1, 7], [2, 7], [3, 7], [5, 7], [6, 10], [7, 10], [8, 10], [9, 11], [10, 10], [11, 10], [12, 10], [13, 10], [14, 8], [15, 20], [16, 8.5], [17, 8], [18, 9], [19, 8.5], [20, 9], [21, 9], [22, 9], [23, 9]]\n",
    "running_error = 0\n",
    "for trial in indexes:\n",
    "    index = trial[0]\n",
    "    true_val = trial[1]\n",
    "    pred_val = complete_pipeline(\"/Users/sreeharirammohan/Downloads/STS Trials/trial_\" + str(index) + \".csv\")\n",
    "    percent_error = abs(true_val - pred_val)/true_val\n",
    "    running_error += percent_error\n",
    "    print(\"Trial \" + str(index) + \": \" + str(round(percent_error, 2)) + \" -> \" + str(complete_pipeline(\"/Users/sreeharirammohan/Downloads/STS Trials/trial_\" + str(index) + \".csv\")) + \" vs. \" + str(true_val))\n",
    "print(100*running_error/len(indexes))"
   ]
  },
  {
   "cell_type": "code",
   "execution_count": null,
   "metadata": {},
   "outputs": [],
   "source": []
  }
 ],
 "metadata": {
  "kernelspec": {
   "display_name": "Python 3",
   "language": "python",
   "name": "python3"
  },
  "language_info": {
   "codemirror_mode": {
    "name": "ipython",
    "version": 3
   },
   "file_extension": ".py",
   "mimetype": "text/x-python",
   "name": "python",
   "nbconvert_exporter": "python",
   "pygments_lexer": "ipython3",
   "version": "3.6.4"
  }
 },
 "nbformat": 4,
 "nbformat_minor": 2
}
