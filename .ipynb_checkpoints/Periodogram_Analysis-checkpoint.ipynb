{
 "cells": [
  {
   "cell_type": "code",
   "execution_count": 175,
   "metadata": {},
   "outputs": [],
   "source": [
    "import pandas as pd\n",
    "import matplotlib.pyplot as plt\n",
    "import numpy as np\n",
    "from scipy import ndimage\n",
    "from scipy.signal import find_peaks\n",
    "from scipy.signal import medfilt\n",
    "from scipy.signal import savgol_filter"
   ]
  },
  {
   "cell_type": "code",
   "execution_count": 176,
   "metadata": {},
   "outputs": [],
   "source": [
    "def moving_average(x, window=3):\n",
    "    box = np.ones(window)/window\n",
    "    smoothed = np.convolve(x, box, mode=\"same\")\n",
    "    return smoothed"
   ]
  },
  {
   "cell_type": "code",
   "execution_count": 101,
   "metadata": {},
   "outputs": [],
   "source": [
    "def normalize_df(input_df):\n",
    "    for col in input_df.columns:\n",
    "        input_df[col] = input_df[col]/input_df[col].max()\n",
    "    return input_df        "
   ]
  },
  {
   "cell_type": "code",
   "execution_count": 102,
   "metadata": {},
   "outputs": [],
   "source": [
    "def horizontal_sum(df):\n",
    "    \n",
    "    combined_signal = []\n",
    "    \n",
    "    signal_len = len(df.iloc[:, 0])\n",
    "    \n",
    "    for index in range(0, signal_len): \n",
    "        sum_horiz = 0\n",
    "        for signal in df.columns:\n",
    "            sum_horiz += df[signal][index]\n",
    "        \n",
    "        combined_signal.append(sum_horiz)\n",
    "        \n",
    "    return combined_signal\n",
    "        "
   ]
  },
  {
   "cell_type": "code",
   "execution_count": 103,
   "metadata": {},
   "outputs": [],
   "source": [
    "def compute_periodogram(input_signal):\n",
    "    signal = np.array(input_signal) #np.array(input_signal.apply(lambda x: float(x)))\n",
    "    pgram_python = (2.0/float(signal.size)) * np.power(np.fft.fft(signal), 2)\n",
    "    indices = list(range(0, int(len(pgram_python)/2 + 1)))\n",
    "    pgram_python = pgram_python[indices]\n",
    "    return np.array(pgram_python.real)"
   ]
  },
  {
   "cell_type": "code",
   "execution_count": 104,
   "metadata": {},
   "outputs": [],
   "source": [
    "def filter_data(input_signal):\n",
    "    signal = np.array(input_signal)\n",
    "    sigma = 2 #play around with this value to influence the degree of \"smoothness\"\n",
    "    signal = ndimage.gaussian_filter1d(input_signal, sigma)\n",
    "    return signal"
   ]
  },
  {
   "cell_type": "code",
   "execution_count": 203,
   "metadata": {},
   "outputs": [],
   "source": [
    "def determine_squats(periodogram):\n",
    "    \n",
    "    periodogram = periodogram\n",
    "    \n",
    "    periodogram = list(periodogram)\n",
    "    \n",
    "    frames = len(periodogram)\n",
    "        \n",
    "    peaks = find_peaks(periodogram)\n",
    "        \n",
    "    max_frame = peaks[0][1]\n",
    "    \n",
    "    max_freq = max_frame/frames\n",
    "    \n",
    "    period = 1/max_freq\n",
    "    \n",
    "    num_squats = frames/period\n",
    "        \n",
    "    return num_squats\n",
    "    "
   ]
  },
  {
   "cell_type": "code",
   "execution_count": 205,
   "metadata": {},
   "outputs": [],
   "source": [
    "df = pd.read_csv(\"all_signals.csv\", sep='\\s*,\\s*', encoding='ascii', engine='python', skiprows=[1])\n",
    "df.columns = map(lambda x: x.strip(), list(df.columns)) #remove preceding \" \" and trailing \" \" from column names"
   ]
  },
  {
   "cell_type": "code",
   "execution_count": 206,
   "metadata": {},
   "outputs": [],
   "source": [
    "df = df.iloc[:, 16:] #just get the interpolated values from the CSV"
   ]
  },
  {
   "cell_type": "code",
   "execution_count": 207,
   "metadata": {},
   "outputs": [
    {
     "data": {
      "text/html": [
       "<div>\n",
       "<style scoped>\n",
       "    .dataframe tbody tr th:only-of-type {\n",
       "        vertical-align: middle;\n",
       "    }\n",
       "\n",
       "    .dataframe tbody tr th {\n",
       "        vertical-align: top;\n",
       "    }\n",
       "\n",
       "    .dataframe thead th {\n",
       "        text-align: right;\n",
       "    }\n",
       "</style>\n",
       "<table border=\"1\" class=\"dataframe\">\n",
       "  <thead>\n",
       "    <tr style=\"text-align: right;\">\n",
       "      <th></th>\n",
       "      <th>rightLegAngleSignal_interpolated</th>\n",
       "      <th>leftLegAngleSignal_interpolated</th>\n",
       "      <th>yPositionOfNoseSignal_interpolated</th>\n",
       "      <th>xPositionOfRHipSignal_interpolated</th>\n",
       "      <th>yPositionOfRHipSignal_interpolated</th>\n",
       "      <th>xPositionOfLHipSignal_interpolated</th>\n",
       "      <th>yPositionOfLHipSignal_interpolated</th>\n",
       "    </tr>\n",
       "  </thead>\n",
       "  <tbody>\n",
       "    <tr>\n",
       "      <th>0</th>\n",
       "      <td>58.671307</td>\n",
       "      <td>70.641243</td>\n",
       "      <td>140.0</td>\n",
       "      <td>228.0</td>\n",
       "      <td>316.0</td>\n",
       "      <td>188.0</td>\n",
       "      <td>124.0</td>\n",
       "    </tr>\n",
       "    <tr>\n",
       "      <th>1</th>\n",
       "      <td>68.198593</td>\n",
       "      <td>53.130104</td>\n",
       "      <td>124.0</td>\n",
       "      <td>228.0</td>\n",
       "      <td>316.0</td>\n",
       "      <td>220.0</td>\n",
       "      <td>316.0</td>\n",
       "    </tr>\n",
       "    <tr>\n",
       "      <th>2</th>\n",
       "      <td>53.130104</td>\n",
       "      <td>38.659809</td>\n",
       "      <td>188.0</td>\n",
       "      <td>228.0</td>\n",
       "      <td>316.0</td>\n",
       "      <td>156.0</td>\n",
       "      <td>132.0</td>\n",
       "    </tr>\n",
       "    <tr>\n",
       "      <th>3</th>\n",
       "      <td>0.784825</td>\n",
       "      <td>31.159304</td>\n",
       "      <td>124.0</td>\n",
       "      <td>236.0</td>\n",
       "      <td>252.0</td>\n",
       "      <td>236.0</td>\n",
       "      <td>236.0</td>\n",
       "    </tr>\n",
       "    <tr>\n",
       "      <th>4</th>\n",
       "      <td>66.161263</td>\n",
       "      <td>86.877869</td>\n",
       "      <td>156.0</td>\n",
       "      <td>196.0</td>\n",
       "      <td>228.0</td>\n",
       "      <td>188.0</td>\n",
       "      <td>236.0</td>\n",
       "    </tr>\n",
       "  </tbody>\n",
       "</table>\n",
       "</div>"
      ],
      "text/plain": [
       "   rightLegAngleSignal_interpolated  leftLegAngleSignal_interpolated  \\\n",
       "0                         58.671307                        70.641243   \n",
       "1                         68.198593                        53.130104   \n",
       "2                         53.130104                        38.659809   \n",
       "3                          0.784825                        31.159304   \n",
       "4                         66.161263                        86.877869   \n",
       "\n",
       "   yPositionOfNoseSignal_interpolated  xPositionOfRHipSignal_interpolated  \\\n",
       "0                               140.0                               228.0   \n",
       "1                               124.0                               228.0   \n",
       "2                               188.0                               228.0   \n",
       "3                               124.0                               236.0   \n",
       "4                               156.0                               196.0   \n",
       "\n",
       "   yPositionOfRHipSignal_interpolated  xPositionOfLHipSignal_interpolated  \\\n",
       "0                               316.0                               188.0   \n",
       "1                               316.0                               220.0   \n",
       "2                               316.0                               156.0   \n",
       "3                               252.0                               236.0   \n",
       "4                               228.0                               188.0   \n",
       "\n",
       "   yPositionOfLHipSignal_interpolated  \n",
       "0                               124.0  \n",
       "1                               316.0  \n",
       "2                               132.0  \n",
       "3                               236.0  \n",
       "4                               236.0  "
      ]
     },
     "execution_count": 207,
     "metadata": {},
     "output_type": "execute_result"
    }
   ],
   "source": [
    "df.head()"
   ]
  },
  {
   "cell_type": "code",
   "execution_count": 208,
   "metadata": {},
   "outputs": [],
   "source": [
    "df = normalize_df(df) #normalized signals before combining them\n",
    "combined_signal = horizontal_sum(df) #combine signals\n",
    "combined_signal = medfilt(combined_signal, kernel_size=3) #use running median to get rid of outliers\n",
    "combined_signal = moving_average(combined_signal, window=7)"
   ]
  },
  {
   "cell_type": "code",
   "execution_count": 209,
   "metadata": {},
   "outputs": [
    {
     "data": {
      "text/plain": [
       "[<matplotlib.lines.Line2D at 0x1c1c46d0b8>]"
      ]
     },
     "execution_count": 209,
     "metadata": {},
     "output_type": "execute_result"
    },
    {
     "data": {
      "image/png": "[encoded data removed]",
      "text/plain": [
       "<matplotlib.figure.Figure at 0x1c1b2f8550>"
      ]
     },
     "metadata": {},
     "output_type": "display_data"
    }
   ],
   "source": [
    "plt.figure(figsize=(15,5))\n",
    "plt.plot(combined_signal)"
   ]
  },
  {
   "cell_type": "code",
   "execution_count": 210,
   "metadata": {},
   "outputs": [],
   "source": [
    "pgram = compute_periodogram(combined_signal)\n",
    "#combined_signal = savgol_filter(combined_signal, window_length=51, polyorder=3)"
   ]
  },
  {
   "cell_type": "code",
   "execution_count": 211,
   "metadata": {},
   "outputs": [
    {
     "data": {
      "text/plain": [
       "(0, 100)"
      ]
     },
     "execution_count": 211,
     "metadata": {},
     "output_type": "execute_result"
    },
    {
     "data": {
      "image/png": "[encoded data removed]",
      "text/plain": [
       "<matplotlib.figure.Figure at 0x1c1b32b828>"
      ]
     },
     "metadata": {},
     "output_type": "display_data"
    }
   ],
   "source": [
    "pgram[0] = 0 #the value @0 is infinity/undefined, so we can remove it\n",
    "plt.plot(pgram)\n",
    "plt.ylim(0,100)\n"
   ]
  },
  {
   "cell_type": "code",
   "execution_count": 212,
   "metadata": {},
   "outputs": [
    {
     "name": "stdout",
     "output_type": "stream",
     "text": [
      "6.0\n"
     ]
    }
   ],
   "source": [
    "print(determine_squats(pgram))"
   ]
  }
 ],
 "metadata": {
  "kernelspec": {
   "display_name": "Python 3",
   "language": "python",
   "name": "python3"
  },
  "language_info": {
   "codemirror_mode": {
    "name": "ipython",
    "version": 3
   },
   "file_extension": ".py",
   "mimetype": "text/x-python",
   "name": "python",
   "nbconvert_exporter": "python",
   "pygments_lexer": "ipython3",
   "version": "3.6.4"
  }
 },
 "nbformat": 4,
 "nbformat_minor": 2
}
